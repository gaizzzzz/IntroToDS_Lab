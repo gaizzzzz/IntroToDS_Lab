{
 "cells": [
  {
   "cell_type": "markdown",
   "metadata": {
    "tags": []
   },
   "source": [
    "# Numpy Exercises"
   ]
  },
  {
   "cell_type": "code",
   "execution_count": 1,
   "metadata": {
    "hide_input": false
   },
   "outputs": [],
   "source": [
    "import numpy as np\n",
    "\n",
    "import matplotlib.pyplot as plt\n",
    "import random # Thư viện built-in của Python "
   ]
  },
  {
   "cell_type": "markdown",
   "metadata": {},
   "source": [
    "**Question 1**"
   ]
  },
  {
   "cell_type": "markdown",
   "metadata": {},
   "source": [
    "```python\n",
    "names = np.array([\"Alice\", \"Mary\", \"Alice\", \"Mary\", \"Alice\"])    \r\n",
    "score = np.array([316, 215, 130, 141, 132])``\n",
    "\n",
    "Do the following using a single one-line vectorized operation\n",
    "- Extract all test scores that are smaller than 130\n",
    "- Extract all test scores of Alice\n",
    "- Add 10 points to Mary’s scores. (You need to extract it first.)`"
   ]
  },
  {
   "cell_type": "code",
   "execution_count": 19,
   "metadata": {},
   "outputs": [
    {
     "name": "stdout",
     "output_type": "stream",
     "text": [
      "All test scores that are smaller than 130: []\n",
      "All test scores of Alice: [316 130 132]\n",
      "Mary's score after adding 10 points: [225 151]\n"
     ]
    }
   ],
   "source": [
    "names = np.array([\"Alice\", \"Mary\", \"Alice\", \"Mary\", \"Alice\"])    \n",
    "score = np.array([316, 215, 130, 141, 132])\n",
    "\n",
    "print(f'All test scores that are smaller than 130: {score[np.where((score < 130))]}')\n",
    "Alice_scores = score[np.where(names == 'Alice')]\n",
    "print(f'All test scores of Alice: {Alice_scores}')\n",
    "Mary_scores = score[np.where(names == 'Mary')] + 10\n",
    "print(f'Mary\\'s score after adding 10 points: {Mary_scores}')"
   ]
  },
  {
   "cell_type": "markdown",
   "metadata": {},
   "source": [
    "**Question 2**"
   ]
  },
  {
   "cell_type": "markdown",
   "metadata": {},
   "source": [
    "Draw the following cell with background color is silver (192,192,192) and foreground is gold (184,134,11).\n",
    "![image.png](data:image/png;base64,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)"
   ]
  },
  {
   "cell_type": "code",
   "execution_count": 57,
   "metadata": {
    "scrolled": true
   },
   "outputs": [
    {
     "data": {
      "image/png": "[encoded data removed]",
      "text/plain": [
       "<Figure size 640x480 with 1 Axes>"
      ]
     },
     "metadata": {},
     "output_type": "display_data"
    }
   ],
   "source": [
    "silver = [192, 192, 192]\n",
    "gold = [184, 134, 11]\n",
    "a = np.zeros((7, 7, 3), dtype=np.uint8)\n",
    "\n",
    "a[::, ::] = silver\n",
    "a[::2, 1::2] = gold\n",
    "a[1::2, ::2] = gold\n",
    "a[1::4, 0::6] = silver\n",
    "a[0::6, 1::4] = silver\n",
    "a[3, 2:5] = silver\n",
    "a[2:5, 3] = silver\n",
    "plt.imshow(a)\n",
    "plt.xticks(range(7))\n",
    "plt.yticks(range(7))\n",
    "plt.show();"
   ]
  },
  {
   "cell_type": "markdown",
   "metadata": {},
   "source": [
    "For the next question we will work with Iris Dataset"
   ]
  },
  {
   "cell_type": "code",
   "execution_count": 58,
   "metadata": {},
   "outputs": [],
   "source": [
    "iris_1d = np.genfromtxt('Data/Iris.csv', delimiter=',', skip_header=1, dtype=None,encoding=None)"
   ]
  },
  {
   "cell_type": "markdown",
   "metadata": {},
   "source": [
    "**Question 3**"
   ]
  },
  {
   "cell_type": "markdown",
   "metadata": {},
   "source": [
    "Find the unique values and the count of unique values in iris's species\n",
    "\n",
    "Expected output:\n",
    "```\n",
    "['Iris-setosa', 'Iris-versicolor', 'Iris-virginica']\n",
    "[50, 50, 5]\n",
    "```"
   ]
  },
  {
   "cell_type": "code",
   "execution_count": 72,
   "metadata": {},
   "outputs": [
    {
     "name": "stdout",
     "output_type": "stream",
     "text": [
      "['Iris-setosa' 'Iris-versicolor' 'Iris-virginica']\n",
      "[50 50 50]\n"
     ]
    }
   ],
   "source": [
    "species = np.array([row.tolist()[4] for row in iris_1d])\n",
    "values, counts = np.unique(species, return_counts = True)\n",
    "print(values)\n",
    "print(counts)"
   ]
  },
  {
   "cell_type": "markdown",
   "metadata": {},
   "source": [
    "**Question 4**\\\n",
    "Find the most frequent value of petal length (3rd column) in iris dataset"
   ]
  },
  {
   "cell_type": "code",
   "execution_count": 69,
   "metadata": {},
   "outputs": [
    {
     "name": "stdout",
     "output_type": "stream",
     "text": [
      "1.5\n"
     ]
    }
   ],
   "source": [
    "petallength = np.array([row.tolist()[2] for row in iris_1d])\n",
    "values, counts = np.unique(petallength, return_counts = True)\n",
    "print(values[np.argmax(counts)])"
   ]
  },
  {
   "cell_type": "markdown",
   "metadata": {},
   "source": [
    "**Question 5**\\\n",
    "Find the position of the first occurrence of a value greater than 1.0 in petalwidth 4th column of iris dataset"
   ]
  },
  {
   "cell_type": "code",
   "execution_count": 75,
   "metadata": {},
   "outputs": [
    {
     "name": "stdout",
     "output_type": "stream",
     "text": [
      "[50]\n"
     ]
    }
   ],
   "source": [
    "petalwidth = np.array([row.tolist()[3] for row in iris_1d])\n",
    "print(np.argwhere(petalwidth > 1.0)[0])"
   ]
  }
 ],
 "metadata": {
  "kernelspec": {
   "display_name": "Python 3 (ipykernel)",
   "language": "python",
   "name": "python3"
  },
  "language_info": {
   "codemirror_mode": {
    "name": "ipython",
    "version": 3
   },
   "file_extension": ".py",
   "mimetype": "text/x-python",
   "name": "python",
   "nbconvert_exporter": "python",
   "pygments_lexer": "ipython3",
   "version": "3.10.8"
  },
  "toc": {
   "base_numbering": 1,
   "nav_menu": {},
   "number_sections": false,
   "sideBar": true,
   "skip_h1_title": false,
   "title_cell": "Table of Contents",
   "title_sidebar": "Contents",
   "toc_cell": false,
   "toc_position": {
    "height": "338.4px",
    "left": "140px",
    "top": "32.133px",
    "width": "165px"
   },
   "toc_section_display": true,
   "toc_window_display": true
  }
 },
 "nbformat": 4,
 "nbformat_minor": 4
}
